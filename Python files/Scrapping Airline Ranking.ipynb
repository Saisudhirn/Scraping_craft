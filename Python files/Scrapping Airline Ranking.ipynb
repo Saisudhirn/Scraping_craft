{
 "cells": [
  {
   "cell_type": "code",
   "execution_count": 1,
   "id": "c5a49641",
   "metadata": {},
   "outputs": [],
   "source": [
    "import os\n",
    "import requests\n",
    "from bs4 import BeautifulSoup\n",
    "from urllib.parse import urljoin\n",
    "from time import sleep"
   ]
  },
  {
   "cell_type": "code",
   "execution_count": 2,
   "id": "36906d02",
   "metadata": {},
   "outputs": [],
   "source": [
    "# URLs\n",
    "base_url = \"https://www.bts.dot.gov\"\n",
    "url = \"https://www.bts.dot.gov/topics/annual-airline-rankings\""
   ]
  },
  {
   "cell_type": "code",
   "execution_count": 3,
   "id": "cfe9c786",
   "metadata": {},
   "outputs": [],
   "source": [
    "output_folder_path = r\"C:\\Users\\saisu\\OneDrive\\Desktop\\Airline Sentimental Analysis\\Airline Ranking\""
   ]
  },
  {
   "cell_type": "code",
   "execution_count": 4,
   "id": "457d1747",
   "metadata": {},
   "outputs": [
    {
     "ename": "FileExistsError",
     "evalue": "[WinError 183] Cannot create a file when that file already exists: 'C:\\\\Users\\\\saisu\\\\OneDrive\\\\Desktop\\\\Airline Sentimental Analysis\\\\Airline Ranking'",
     "output_type": "error",
     "traceback": [
      "\u001b[1;31m---------------------------------------------------------------------------\u001b[0m",
      "\u001b[1;31mFileExistsError\u001b[0m                           Traceback (most recent call last)",
      "Input \u001b[1;32mIn [4]\u001b[0m, in \u001b[0;36m<cell line: 1>\u001b[1;34m()\u001b[0m\n\u001b[1;32m----> 1\u001b[0m \u001b[43mos\u001b[49m\u001b[38;5;241;43m.\u001b[39;49m\u001b[43mmakedirs\u001b[49m\u001b[43m(\u001b[49m\u001b[43moutput_folder_path\u001b[49m\u001b[43m)\u001b[49m\n",
      "File \u001b[1;32m~\\anaconda3\\lib\\os.py:225\u001b[0m, in \u001b[0;36mmakedirs\u001b[1;34m(name, mode, exist_ok)\u001b[0m\n\u001b[0;32m    223\u001b[0m         \u001b[38;5;28;01mreturn\u001b[39;00m\n\u001b[0;32m    224\u001b[0m \u001b[38;5;28;01mtry\u001b[39;00m:\n\u001b[1;32m--> 225\u001b[0m     \u001b[43mmkdir\u001b[49m\u001b[43m(\u001b[49m\u001b[43mname\u001b[49m\u001b[43m,\u001b[49m\u001b[43m \u001b[49m\u001b[43mmode\u001b[49m\u001b[43m)\u001b[49m\n\u001b[0;32m    226\u001b[0m \u001b[38;5;28;01mexcept\u001b[39;00m \u001b[38;5;167;01mOSError\u001b[39;00m:\n\u001b[0;32m    227\u001b[0m     \u001b[38;5;66;03m# Cannot rely on checking for EEXIST, since the operating system\u001b[39;00m\n\u001b[0;32m    228\u001b[0m     \u001b[38;5;66;03m# could give priority to other errors like EACCES or EROFS\u001b[39;00m\n\u001b[0;32m    229\u001b[0m     \u001b[38;5;28;01mif\u001b[39;00m \u001b[38;5;129;01mnot\u001b[39;00m exist_ok \u001b[38;5;129;01mor\u001b[39;00m \u001b[38;5;129;01mnot\u001b[39;00m path\u001b[38;5;241m.\u001b[39misdir(name):\n",
      "\u001b[1;31mFileExistsError\u001b[0m: [WinError 183] Cannot create a file when that file already exists: 'C:\\\\Users\\\\saisu\\\\OneDrive\\\\Desktop\\\\Airline Sentimental Analysis\\\\Airline Ranking'"
     ]
    }
   ],
   "source": [
    "# os.makedirs(output_folder_path)"
   ]
  },
  {
   "cell_type": "code",
   "execution_count": 5,
   "id": "e139c0d3",
   "metadata": {},
   "outputs": [],
   "source": [
    "headers = {\n",
    "    \"User-Agent\": \"Mozilla/5.0 (Windows NT 10.0; Win64; x64) AppleWebKit/537.36 (KHTML, like Gecko) Chrome/95.0.4638.54 Safari/537.36\",\n",
    "    \"Referer\": url\n",
    "}"
   ]
  },
  {
   "cell_type": "code",
   "execution_count": 6,
   "id": "a6ec9001",
   "metadata": {},
   "outputs": [],
   "source": [
    "# Fetch the main page to ensure we get any required cookies\n",
    "response = requests.get(url)\n",
    "response.raise_for_status()"
   ]
  },
  {
   "cell_type": "code",
   "execution_count": 7,
   "id": "eb710a78",
   "metadata": {},
   "outputs": [],
   "source": [
    "soup = BeautifulSoup(response.content, 'html.parser')\n",
    "links = soup.find_all('a', href=True)"
   ]
  },
  {
   "cell_type": "code",
   "execution_count": 10,
   "id": "633a1a8a",
   "metadata": {},
   "outputs": [
    {
     "name": "stdout",
     "output_type": "stream",
     "text": [
      "Downloaded content from https://www.bts.dot.gov/topics/airlines-and-airports/airline-rankings-2020 and saved to C:\\Users\\saisu\\OneDrive\\Desktop\\Airline Sentimental Analysis\\Airline Ranking\\Airline Rankings 2020.csv\n",
      "Downloaded content from https://www.bts.dot.gov/airline-rankings-2019 and saved to C:\\Users\\saisu\\OneDrive\\Desktop\\Airline Sentimental Analysis\\Airline Ranking\\Airline Rankings 2019.csv\n",
      "Downloaded content from https://www.bts.dot.gov/airline-rankings-2018 and saved to C:\\Users\\saisu\\OneDrive\\Desktop\\Airline Sentimental Analysis\\Airline Ranking\\Airline Rankings 2018.csv\n",
      "Downloaded content from https://www.bts.dot.gov/airline-rankings-2017 and saved to C:\\Users\\saisu\\OneDrive\\Desktop\\Airline Sentimental Analysis\\Airline Ranking\\Airline Rankings 2017.csv\n",
      "Downloaded content from https://www.bts.dot.gov/airline-rankings-2016 and saved to C:\\Users\\saisu\\OneDrive\\Desktop\\Airline Sentimental Analysis\\Airline Ranking\\Airline Rankings 2016.csv\n",
      "Downloaded content from https://www.bts.dot.gov/airline-rankings-2015 and saved to C:\\Users\\saisu\\OneDrive\\Desktop\\Airline Sentimental Analysis\\Airline Ranking\\Airline Rankings 2015.csv\n",
      "Downloaded content from https://www.bts.dot.gov/airline-rankings-2014 and saved to C:\\Users\\saisu\\OneDrive\\Desktop\\Airline Sentimental Analysis\\Airline Ranking\\Airline Rankings 2014.csv\n",
      "Downloaded content from https://www.bts.dot.gov/airline-rankings-2013 and saved to C:\\Users\\saisu\\OneDrive\\Desktop\\Airline Sentimental Analysis\\Airline Ranking\\Airline Rankings 2013.csv\n",
      "Downloaded content from https://www.bts.dot.gov/airline-rankings-2012 and saved to C:\\Users\\saisu\\OneDrive\\Desktop\\Airline Sentimental Analysis\\Airline Ranking\\Airline Rankings 2012.csv\n",
      "Downloaded content from https://www.bts.dot.gov/airline-rankings-2011 and saved to C:\\Users\\saisu\\OneDrive\\Desktop\\Airline Sentimental Analysis\\Airline Ranking\\Airline Rankings 2011.csv\n",
      "Downloaded content from https://www.bts.dot.gov/airline-rankings-2010 and saved to C:\\Users\\saisu\\OneDrive\\Desktop\\Airline Sentimental Analysis\\Airline Ranking\\Airline Rankings 2010.csv\n",
      "Downloaded content from https://www.bts.dot.gov/airline-rankings-2009 and saved to C:\\Users\\saisu\\OneDrive\\Desktop\\Airline Sentimental Analysis\\Airline Ranking\\Airline Rankings 2009.csv\n",
      "Downloaded content from https://www.bts.dot.gov/airline-rankings-2008 and saved to C:\\Users\\saisu\\OneDrive\\Desktop\\Airline Sentimental Analysis\\Airline Ranking\\Airline Rankings 2008.csv\n"
     ]
    }
   ],
   "source": [
    "#Find the div containing the links\n",
    "div_content = soup.find('div', class_='node__content clearfix')\n",
    "        \n",
    "if div_content:\n",
    "    links = div_content.find_all('a')\n",
    "    for link in links:\n",
    "        if \"Airline Rankings\" in link.text:\n",
    "            # Construct the full URL\n",
    "            full_url = base_url + link['href']\n",
    "            \n",
    "            # Fetch the content\n",
    "            response = requests.get(full_url)\n",
    "            if response.status_code == 200:\n",
    "                # Define the full path where the file should be saved\n",
    "                file_path = os.path.join(output_folder_path, f\"{link.text}.csv\")\n",
    "                \n",
    "                # Save the content to a file\n",
    "                with open(file_path, \"wb\") as file:  # Here's the corrected line\n",
    "                    file.write(response.content)\n",
    "                print(f\"Downloaded content from {full_url} and saved to {file_path}\")\n",
    "            else:\n",
    "                print(f\"Failed to download content from {full_url}\")\n"
   ]
  },
  {
   "cell_type": "code",
   "execution_count": null,
   "id": "3f20024d",
   "metadata": {},
   "outputs": [],
   "source": []
  }
 ],
 "metadata": {
  "kernelspec": {
   "display_name": "Python 3 (ipykernel)",
   "language": "python",
   "name": "python3"
  },
  "language_info": {
   "codemirror_mode": {
    "name": "ipython",
    "version": 3
   },
   "file_extension": ".py",
   "mimetype": "text/x-python",
   "name": "python",
   "nbconvert_exporter": "python",
   "pygments_lexer": "ipython3",
   "version": "3.9.12"
  }
 },
 "nbformat": 4,
 "nbformat_minor": 5
}
