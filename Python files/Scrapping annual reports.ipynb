{
 "cells": [
  {
   "cell_type": "code",
   "execution_count": 1,
   "id": "c5a49641",
   "metadata": {},
   "outputs": [],
   "source": [
    "import os\n",
    "import requests\n",
    "from bs4 import BeautifulSoup\n",
    "from urllib.parse import urljoin\n"
   ]
  },
  {
   "cell_type": "code",
   "execution_count": 51,
   "id": "36906d02",
   "metadata": {},
   "outputs": [],
   "source": [
    "url = \"https://www.annualreports.com/Company/pioneer-natural-resources-company\""
   ]
  },
  {
   "cell_type": "code",
   "execution_count": 52,
   "id": "cfe9c786",
   "metadata": {},
   "outputs": [],
   "source": [
    "output_folder_path = r\"C:\\Users\\saisu\\OneDrive\\Desktop\\project\\annual_reports\\pioneernaturalresourcescompany\""
   ]
  },
  {
   "cell_type": "code",
   "execution_count": 53,
   "id": "77fbfa0c",
   "metadata": {},
   "outputs": [],
   "source": [
    "response = requests.get(url)\n",
    "soup = BeautifulSoup(response.content, \"html.parser\")"
   ]
  },
  {
   "cell_type": "code",
   "execution_count": 54,
   "id": "456ee38c",
   "metadata": {},
   "outputs": [],
   "source": [
    "links = soup.find_all(\"a\")"
   ]
  },
  {
   "cell_type": "code",
   "execution_count": 55,
   "id": "fb43de21",
   "metadata": {},
   "outputs": [
    {
     "name": "stdout",
     "output_type": "stream",
     "text": [
      "Downloaded: #.pdf\n",
      "Downloaded: NYSE_PXD_2021.pdf\n",
      "Downloaded: NYSE_PXD_2020.pdf\n",
      "Downloaded: NYSE_PXD_2019.PDF\n",
      "Downloaded: NYSE_PXD_2018.pdf\n",
      "Downloaded: NYSE_PXD_2017.pdf\n",
      "Downloaded: NYSE_PXD_2016.pdf\n",
      "Downloaded: NYSE_PXD_2015.pdf\n",
      "Downloaded: NYSE_PXD_2014.pdf\n",
      "Downloaded: NYSE_PXD_2013.pdf\n",
      "Downloaded: NYSE_PXD_2012.pdf\n",
      "Downloaded: NYSE_PXD_2011.pdf\n",
      "Downloaded: NYSE_PXD_2010.pdf\n",
      "Downloaded: NYSE_PXD_2009.pdf\n",
      "Downloaded: ar2008.pdf\n",
      "Downloaded: NYSE_PXD_2007.pdf\n",
      "Downloaded: NYSE_PXD_2006.pdf\n",
      "Downloaded: NYSE_PXD_2005.pdf\n",
      "Downloaded: NYSE_PXD_2004.pdf\n",
      "Downloaded: .pdf\n"
     ]
    }
   ],
   "source": [
    "def sanitize_filename(name):\n",
    "    # Remove or replace invalid characters\n",
    "    invalid_chars = ['?', '=', '&', '\\\\', '/', ':', '*', '<', '>', '|', '\"']\n",
    "    for char in invalid_chars:\n",
    "        name = name.replace(char, '_')\n",
    "    return name\n",
    "\n",
    "# Iterate over the links and download the PDF files with \"annual\" and \"report\" in the title\n",
    "for link in links:\n",
    "    href = link.get(\"href\")\n",
    "    if href and \"annual\" in link.text.lower() and \"report\" in link.text.lower():  # Check if link text contains \"annual\" and \"report\"\n",
    "        \n",
    "        # Build the absolute URL\n",
    "        absolute_url = urljoin(url, href)\n",
    "\n",
    "        # Send a GET request to the download URL\n",
    "        response = requests.get(absolute_url)\n",
    "\n",
    "        # Obtain the file name from the URL\n",
    "        file_name = os.path.basename(href)\n",
    "        file_name = sanitize_filename(file_name)  # Sanitize the filename\n",
    "\n",
    "        # Check if the file extension is already \".pdf\" and append if not\n",
    "        if not file_name.lower().endswith(\".pdf\"):\n",
    "            file_name += \".pdf\"\n",
    "\n",
    "        # Ensure the directory exists\n",
    "        if not os.path.exists(output_folder_path):\n",
    "            os.makedirs(output_folder_path)\n",
    "\n",
    "        # Save the file to the output folder\n",
    "        file_path = os.path.join(output_folder_path, file_name)\n",
    "        with open(file_path, \"wb\") as file:\n",
    "            file.write(response.content)\n",
    "\n",
    "        print(f\"Downloaded: {file_name}\")\n"
   ]
  },
  {
   "cell_type": "code",
   "execution_count": 56,
   "id": "e053a516",
   "metadata": {},
   "outputs": [
    {
     "name": "stdout",
     "output_type": "stream",
     "text": [
      "Renamed: ar2008.pdf to 2008 pioneernaturalresourcescompany.pdf\n",
      "Renamed: NYSE_PXD_2004.pdf to 2004 pioneernaturalresourcescompany.pdf\n",
      "Renamed: NYSE_PXD_2005.pdf to 2005 pioneernaturalresourcescompany.pdf\n",
      "Renamed: NYSE_PXD_2006.pdf to 2006 pioneernaturalresourcescompany.pdf\n",
      "Renamed: NYSE_PXD_2007.pdf to 2007 pioneernaturalresourcescompany.pdf\n",
      "Renamed: NYSE_PXD_2009.pdf to 2009 pioneernaturalresourcescompany.pdf\n",
      "Renamed: NYSE_PXD_2010.pdf to 2010 pioneernaturalresourcescompany.pdf\n",
      "Renamed: NYSE_PXD_2011.pdf to 2011 pioneernaturalresourcescompany.pdf\n",
      "Renamed: NYSE_PXD_2012.pdf to 2012 pioneernaturalresourcescompany.pdf\n",
      "Renamed: NYSE_PXD_2013.pdf to 2013 pioneernaturalresourcescompany.pdf\n",
      "Renamed: NYSE_PXD_2014.pdf to 2014 pioneernaturalresourcescompany.pdf\n",
      "Renamed: NYSE_PXD_2015.pdf to 2015 pioneernaturalresourcescompany.pdf\n",
      "Renamed: NYSE_PXD_2016.pdf to 2016 pioneernaturalresourcescompany.pdf\n",
      "Renamed: NYSE_PXD_2017.pdf to 2017 pioneernaturalresourcescompany.pdf\n",
      "Renamed: NYSE_PXD_2018.pdf to 2018 pioneernaturalresourcescompany.pdf\n",
      "Renamed: NYSE_PXD_2019.PDF to 2019 pioneernaturalresourcescompany.pdf\n",
      "Renamed: NYSE_PXD_2020.pdf to 2020 pioneernaturalresourcescompany.pdf\n",
      "Renamed: NYSE_PXD_2021.pdf to 2021 pioneernaturalresourcescompany.pdf\n"
     ]
    }
   ],
   "source": [
    "\n",
    "#rename the files\n",
    "import os\n",
    "import re\n",
    "\n",
    "# Set the directory path where the PDF files are located\n",
    "directory = r\"C:\\Users\\saisu\\OneDrive\\Desktop\\project\\annual_reports\\pioneernaturalresourcescompany\"#this will be updated to the directory you saved the files in and you need to update the company name\n",
    "\n",
    "# Iterate over the files in the directory\n",
    "for filename in os.listdir(directory):\n",
    "    file_path = os.path.join(directory, filename)\n",
    "    if os.path.isfile(file_path) and filename.lower().endswith(\".pdf\"):\n",
    "        # Extract the year from the file name using regular expressions\n",
    "        match = re.search(r\"\\d{4}\", filename)\n",
    "        if match:\n",
    "            year = match.group()\n",
    "            \n",
    "            # Construct the new file name\n",
    "            new_filename = f\"{year} pioneernaturalresourcescompany.pdf\"#the company name will need to be updated for the company you are working with. Note that the {year} inputs the annual report's year before the company's name \n",
    "            \n",
    "            # Rename the file\n",
    "            new_file_path = os.path.join(directory, new_filename)\n",
    "            os.rename(file_path, new_file_path)\n",
    "            \n",
    "            print(f\"Renamed: {filename} to {new_filename}\")"
   ]
  }
 ],
 "metadata": {
  "kernelspec": {
   "display_name": "Python 3 (ipykernel)",
   "language": "python",
   "name": "python3"
  },
  "language_info": {
   "codemirror_mode": {
    "name": "ipython",
    "version": 3
   },
   "file_extension": ".py",
   "mimetype": "text/x-python",
   "name": "python",
   "nbconvert_exporter": "python",
   "pygments_lexer": "ipython3",
   "version": "3.9.12"
  }
 },
 "nbformat": 4,
 "nbformat_minor": 5
}
