{
 "cells": [
  {
   "cell_type": "code",
   "execution_count": 55,
   "id": "c5a49641",
   "metadata": {},
   "outputs": [],
   "source": [
    "import os\n",
    "import requests\n",
    "from bs4 import BeautifulSoup\n",
    "from urllib.parse import urljoin\n",
    "from time import sleep"
   ]
  },
  {
   "cell_type": "code",
   "execution_count": 56,
   "id": "36906d02",
   "metadata": {},
   "outputs": [],
   "source": [
    "# URLs\n",
    "base_url = \"https://www.bts.dot.gov\"\n",
    "url = \"https://www.bts.dot.gov/browse-statistical-products-and-data/bts-publications/airline-service-quality-performance-234-time\""
   ]
  },
  {
   "cell_type": "code",
   "execution_count": 57,
   "id": "cfe9c786",
   "metadata": {},
   "outputs": [],
   "source": [
    "output_folder_path = r\"C:\\Users\\saisu\\OneDrive\\Desktop\\Airline Sentimental Analysis\\Airline Quality (Delay)\""
   ]
  },
  {
   "cell_type": "code",
   "execution_count": 58,
   "id": "e139c0d3",
   "metadata": {},
   "outputs": [],
   "source": [
    "headers = {\n",
    "    \"User-Agent\": \"Mozilla/5.0 (Windows NT 10.0; Win64; x64) AppleWebKit/537.36 (KHTML, like Gecko) Chrome/95.0.4638.54 Safari/537.36\",\n",
    "    \"Referer\": url\n",
    "}"
   ]
  },
  {
   "cell_type": "code",
   "execution_count": 59,
   "id": "77fbfa0c",
   "metadata": {},
   "outputs": [],
   "source": [
    "delay_time = 5  # Delay of 5 seconds"
   ]
  },
  {
   "cell_type": "code",
   "execution_count": 60,
   "id": "456ee38c",
   "metadata": {},
   "outputs": [
    {
     "name": "stdout",
     "output_type": "stream",
     "text": [
      "Downloading: https://www.bts.dot.gov/sites/bts.dot.gov/files/docs/legacy/additional-attachment-files/ONTIME.TD.202305.REL01.05JUL2023.zip\n",
      "Downloaded: ONTIME.TD.202305.REL01.05JUL2023.zip\n",
      "Downloading: https://www.bts.dot.gov/sites/bts.dot.gov/files/docs/legacy/additional-attachment-files/ONTIME.TD.202304.REL01.05JUN2023.ZIP\n",
      "Downloaded: ONTIME.TD.202304.REL01.05JUN2023.ZIP\n",
      "Downloading: https://www.bts.dot.gov/sites/bts.dot.gov/files/docs/legacy/additional-attachment-files/ONTIME.TD.202303.REL01.03MAY2023.zip\n",
      "Downloaded: ONTIME.TD.202303.REL01.03MAY2023.zip\n",
      "Downloading: https://www.bts.dot.gov/sites/bts.dot.gov/files/docs/legacy/additional-attachment-files/ONTIME.TD.202302.REL01.17APR2023.zip\n",
      "Downloaded: ONTIME.TD.202302.REL01.17APR2023.zip\n",
      "Downloading: https://www.bts.dot.gov/sites/bts.dot.gov/files/docs/legacy/additional-attachment-files/ONTIME.TD.202301.REL02.16MAR2023.zip\n",
      "Downloaded: ONTIME.TD.202301.REL02.16MAR2023.zip\n",
      "Downloading: https://www.bts.dot.gov/sites/bts.dot.gov/files/docs/legacy/additional-attachment-files/ONTIME.TD.202212.REL03.10MAR2023.zip\n",
      "Downloaded: ONTIME.TD.202212.REL03.10MAR2023.zip\n",
      "Downloading: https://www.bts.dot.gov/sites/bts.dot.gov/files/docs/legacy/additional-attachment-files/ONTIME.TD.202211.REL01.10JAN2023.zip\n",
      "Downloaded: ONTIME.TD.202211.REL01.10JAN2023.zip\n",
      "Downloading: https://www.bts.dot.gov/sites/bts.dot.gov/files/docs/legacy/additional-attachment-files/ONTIME.TD.202210.REL01.30NOV2022.zip\n",
      "Downloaded: ONTIME.TD.202210.REL01.30NOV2022.zip\n",
      "Downloading: https://www.bts.dot.gov/sites/bts.dot.gov/files/docs/legacy/additional-attachment-files/ONTIME.TD.202209.REL01.03NOV2022.zip\n",
      "Downloaded: ONTIME.TD.202209.REL01.03NOV2022.zip\n",
      "Downloading: https://www.bts.dot.gov/sites/bts.dot.gov/files/docs/legacy/additional-attachment-files/ONTIME.TD.202208.REL01.27SEP2022.zip\n",
      "Downloaded: ONTIME.TD.202208.REL01.27SEP2022.zip\n",
      "Downloading: https://www.bts.dot.gov/sites/bts.dot.gov/files/docs/legacy/additional-attachment-files/ONTIME.TD.202207.REL01.07SEP2022.zip\n",
      "Downloaded: ONTIME.TD.202207.REL01.07SEP2022.zip\n",
      "Downloading: https://www.bts.dot.gov/sites/bts.dot.gov/files/docs/legacy/additional-attachment-files/ONTIME.TD.202206.REL01.27JUL2022.ZIP\n",
      "Downloaded: ONTIME.TD.202206.REL01.27JUL2022.ZIP\n",
      "Downloading: https://www.bts.dot.gov/sites/bts.dot.gov/files/docs/legacy/additional-attachment-files/ONTIME.TD.202205.REL01.06JUL2022.zip\n",
      "Downloaded: ONTIME.TD.202205.REL01.06JUL2022.zip\n",
      "Downloading: https://www.bts.dot.gov/sites/bts.dot.gov/files/docs/legacy/additional-attachment-files/ONTIME.TD.202204.REL01.14JUN2022.zip\n",
      "Downloaded: ONTIME.TD.202204.REL01.14JUN2022.zip\n",
      "Downloading: https://www.bts.dot.gov/sites/bts.dot.gov/files/docs/legacy/additional-attachment-files/ONTIME.TD.202203.REL01.02MAY2022.zip\n",
      "Downloaded: ONTIME.TD.202203.REL01.02MAY2022.zip\n",
      "Downloading: https://www.bts.dot.gov/sites/bts.dot.gov/files/docs/legacy/additional-attachment-files/ONTIME.TD.202202.REL01.12APR2022.zip\n",
      "Downloaded: ONTIME.TD.202202.REL01.12APR2022.zip\n",
      "Downloading: https://www.bts.dot.gov/sites/bts.dot.gov/files/docs/legacy/additional-attachment-files/ONTIME.TD.202201.REL03.05APR2022.zip\n",
      "Downloaded: ONTIME.TD.202201.REL03.05APR2022.zip\n"
     ]
    }
   ],
   "source": [
    "# Create a session\n",
    "with requests.Session() as session:\n",
    "    session.headers.update(headers)\n",
    "    \n",
    "    # Fetch the main page to ensure we get any required cookies\n",
    "    response = session.get(url)\n",
    "    response.raise_for_status()\n",
    "    \n",
    "    soup = BeautifulSoup(response.content, 'html.parser')\n",
    "    links = soup.find_all('a', href=True)\n",
    "\n",
    "    for link in links:\n",
    "        if 'href' in link.attrs:\n",
    "            file_name = link['href'].split('/')[-1]\n",
    "            if file_name.startswith(\"ONTIME.TD.\"):\n",
    "                year = int(file_name[10:14])\n",
    "                month = int(file_name[14:16])\n",
    "                year_month = (year, month)\n",
    "                \n",
    "                if year_month in valid_months_years:\n",
    "                    file_url = base_url + link['href']\n",
    "                    print(f\"Downloading: {file_url}\")\n",
    "                    \n",
    "                    # Download the file\n",
    "                    file_response = session.get(file_url, stream=True)\n",
    "                    file_response.raise_for_status()\n",
    "                    \n",
    "                    # Save the file\n",
    "                    file_path = os.path.join(output_folder_path, file_name)\n",
    "                    with open(file_path, \"wb\") as file:\n",
    "                        file.write(file_response.content)\n",
    "                    print(f\"Downloaded: {file_name}\")\n",
    "                    \n",
    "                    # Introduce a delay\n",
    "                    sleep(delay_time)"
   ]
  },
  {
   "cell_type": "code",
   "execution_count": null,
   "id": "633a1a8a",
   "metadata": {},
   "outputs": [],
   "source": []
  }
 ],
 "metadata": {
  "kernelspec": {
   "display_name": "Python 3 (ipykernel)",
   "language": "python",
   "name": "python3"
  },
  "language_info": {
   "codemirror_mode": {
    "name": "ipython",
    "version": 3
   },
   "file_extension": ".py",
   "mimetype": "text/x-python",
   "name": "python",
   "nbconvert_exporter": "python",
   "pygments_lexer": "ipython3",
   "version": "3.9.12"
  }
 },
 "nbformat": 4,
 "nbformat_minor": 5
}
